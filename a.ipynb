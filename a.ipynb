{
 "cells": [
  {
   "cell_type": "code",
   "execution_count": 1,
   "metadata": {},
   "outputs": [],
   "source": [
    "#جستجو در توییتر و ذخیرع در فایل json\n",
    "import twitter\n",
    "consumer_key= \"HoOplpBMpxMqA9ALiodqO15iZ\"\n",
    "consumer_secret=\"IW0N6AbMEWWP2EYlWCDz3fmcHA8yIoP76WltSJwLJieRJMhC9E\"\n",
    "access_token=\"1449363513797922823-W9l2QLumYFcM6ycO7v82W1KC87sgmo\"\n",
    "access_token_secret=\"kv0NxSLTLx9swTcZkhzQtqRDnHwl680bU0E3RGEkt53R0\"\n",
    "authorization= twitter.OAuth(access_token, access_token_secret, consumer_key, consumer_secret)"
   ]
  },
  {
   "cell_type": "code",
   "execution_count": 2,
   "metadata": {},
   "outputs": [
    {
     "name": "stdout",
     "output_type": "stream",
     "text": [
      "C:\\Users\\pascal\\data\\datasets\\twitter\\python_tweets.json\n"
     ]
    }
   ],
   "source": [
    "import os\n",
    "json_path = os.path.join(os.path.expanduser(\"~\"), \"data\", \"datasets\", \"twitter\", \"python_tweets.json\")\n",
    "print(json_path)"
   ]
  },
  {
   "cell_type": "code",
   "execution_count": 3,
   "metadata": {},
   "outputs": [
    {
     "name": "stdout",
     "output_type": "stream",
     "text": [
      "C:\\Users\\pascal\\data\\datasets\\twitter\\python_tweets.json\n"
     ]
    }
   ],
   "source": [
    "import json\n",
    "if os.path.exists(json_path):\n",
    "    with open(json_path, \"r\")as json_file:\n",
    "        data=json.load(json_file) \n",
    "        print(data) \n",
    "print(json_path)       "
   ]
  }
 ],
 "metadata": {
  "kernelspec": {
   "display_name": "Python 3",
   "language": "python",
   "name": "python3"
  },
  "language_info": {
   "codemirror_mode": {
    "name": "ipython",
    "version": 3
   },
   "file_extension": ".py",
   "mimetype": "text/x-python",
   "name": "python",
   "nbconvert_exporter": "python",
   "pygments_lexer": "ipython3",
   "version": "3.11.3"
  },
  "orig_nbformat": 4
 },
 "nbformat": 4,
 "nbformat_minor": 2
}
