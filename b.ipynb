{
 "cells": [
  {
   "cell_type": "code",
   "execution_count": 1,
   "metadata": {},
   "outputs": [
    {
     "name": "stdout",
     "output_type": "stream",
     "text": [
      "Loaded 400 tweets\n"
     ]
    }
   ],
   "source": [
    "# برچسب زدن تویی ها\n",
    "import os\n",
    "input_filename = os.path.join(os.path.expanduser(\"~\"), \"Data\",\n",
    "\"twitter\", \"python_tweets.json\")\n",
    "labels_filename = os.path.join(os.path.expanduser(\"~\"), \"Data\",\n",
    "\"twitter\", \"python_classes.json\")\n",
    "import json\n",
    "tweets = []\n",
    "with open(input_filename) as inf:\n",
    " for line in inf:\n",
    "  if len(line.strip()) == 0:\n",
    "    continue\n",
    "  tweets.append(json.loads(line))\n",
    "print(\"Loaded {} tweets\".format(len(tweets)))"
   ]
  },
  {
   "cell_type": "code",
   "execution_count": 2,
   "metadata": {},
   "outputs": [
    {
     "name": "stdout",
     "output_type": "stream",
     "text": [
      "Loaded 26 labels\n"
     ]
    }
   ],
   "source": [
    "labels = []\n",
    "if os.path.exists(labels_filename):\n",
    "    with open(labels_filename) as inf:\n",
    "        labels = json.load(inf)\n",
    "print(\"Loaded {} labels\".format(len(labels)))"
   ]
  },
  {
   "cell_type": "code",
   "execution_count": 3,
   "metadata": {},
   "outputs": [],
   "source": [
    "def get_next_tweet():\n",
    "    return tweets[len(labels)]['id']"
   ]
  },
  {
   "cell_type": "code",
   "execution_count": 4,
   "metadata": {},
   "outputs": [
    {
     "data": {
      "application/javascript": "function set_label(label){\n var kernel = IPython.notebook.kernel;\n kernel.execute(\"labels.append(\" + label + \")\");\n load_next_tweet();\n}\nfunction load_next_tweet(){\n var code_input = \"get_next_tweet()\";\n var kernel = IPython.notebook.kernel;\n var callbacks = { 'iopub' : {'output' : handle_output}};\n kernel.execute(code_input, callbacks, {silent:false});\n}\nfunction handle_output(out){\n var res = out.content.data[\"text/plain\"];\n $(\"div#tweet_text\").html(res);\n}\nfunction handle_output(out){\n var res = out.content.data[\"text/plain\"];\n $(\"div#tweet_text\").html(res);\n}\n",
      "text/plain": [
       "<IPython.core.display.Javascript object>"
      ]
     },
     "metadata": {},
     "output_type": "display_data"
    }
   ],
   "source": [
    "%%javascript\n",
    "function set_label(label){\n",
    " var kernel = IPython.notebook.kernel;\n",
    " kernel.execute(\"labels.append(\" + label + \")\");\n",
    " load_next_tweet();\n",
    "}\n",
    "function load_next_tweet(){\n",
    " var code_input = \"get_next_tweet()\";\n",
    " var kernel = IPython.notebook.kernel;\n",
    " var callbacks = { 'iopub' : {'output' : handle_output}};\n",
    " kernel.execute(code_input, callbacks, {silent:false});\n",
    "}\n",
    "function handle_output(out){\n",
    " var res = out.content.data[\"text/plain\"];\n",
    " $(\"div#tweet_text\").html(res);\n",
    "}\n",
    "function handle_output(out){\n",
    " var res = out.content.data[\"text/plain\"];\n",
    " $(\"div#tweet_text\").html(res);\n",
    "}"
   ]
  },
  {
   "cell_type": "code",
   "execution_count": 5,
   "metadata": {},
   "outputs": [
    {
     "data": {
      "text/html": [
       "<div name=\"tweetbox\">\n",
       "    Instructions: Click in text box. Enter a 1 if the tweet is relevant, enter 0 otherwise.<br>\n",
       "    Tweet: <div id=\"tweet_text\" value=\"text\"></div><br>\n",
       "    <input type=text id=\"capture\"></input><br>\n",
       "</div>\n",
       "\n",
       "<script>\n",
       "function set_label(label){\n",
       "    var kernel = IPython.notebook.kernel;\n",
       "    kernel.execute(\"labels.append(\" + label + \")\");\n",
       "    load_next_tweet();\n",
       "}\n",
       "\n",
       "function load_next_tweet(){\n",
       "   var code_input = \"get_next_tweet()\";\n",
       "   var kernel = IPython.notebook.kernel;\n",
       "   var callbacks = { 'iopub' : {'output' : handle_output}};\n",
       "   kernel.execute(code_input, callbacks, {silent:false});\n",
       "}\n",
       "\n",
       "function handle_output(out){\n",
       "   console.log(out);\n",
       "   var res = out.content.data[\"text/plain\"];\n",
       "   $(\"div#tweet_text\").html(res);\n",
       "}\n",
       "\n",
       "$(\"input#capture\").keypress(function(e) {\n",
       "    console.log(e);\n",
       "      if(e.which == 48) {\n",
       "        // 0 pressed\n",
       "        set_label(0);\n",
       "        $(\"input#capture\").val(\"\");\n",
       "      }else if (e.which == 49){\n",
       "        // 1 pressed\n",
       "        set_label(1);  \n",
       "        $(\"input#capture\").val(\"\");\n",
       "      }\n",
       "});\n",
       "\n",
       "load_next_tweet();\n",
       "</script>\n"
      ],
      "text/plain": [
       "<IPython.core.display.HTML object>"
      ]
     },
     "metadata": {},
     "output_type": "display_data"
    }
   ],
   "source": [
    "%%html\n",
    "<div name=\"tweetbox\">\n",
    "    Instructions: Click in text box. Enter a 1 if the tweet is relevant, enter 0 otherwise.<br>\n",
    "    Tweet: <div id=\"tweet_text\" value=\"text\"></div><br>\n",
    "    <input type=text id=\"capture\"></input><br>\n",
    "</div>\n",
    "\n",
    "<script>\n",
    "function set_label(label){\n",
    "    var kernel = IPython.notebook.kernel;\n",
    "    kernel.execute(\"labels.append(\" + label + \")\");\n",
    "    load_next_tweet();\n",
    "}\n",
    "\n",
    "function load_next_tweet(){\n",
    "   var code_input = \"get_next_tweet()\";\n",
    "   var kernel = IPython.notebook.kernel;\n",
    "   var callbacks = { 'iopub' : {'output' : handle_output}};\n",
    "   kernel.execute(code_input, callbacks, {silent:false});\n",
    "}\n",
    "\n",
    "function handle_output(out){\n",
    "   console.log(out);\n",
    "   var res = out.content.data[\"text/plain\"];\n",
    "   $(\"div#tweet_text\").html(res);\n",
    "}\n",
    "\n",
    "$(\"input#capture\").keypress(function(e) {\n",
    "    console.log(e);\n",
    "      if(e.which == 48) {\n",
    "        // 0 pressed\n",
    "        set_label(0);\n",
    "        $(\"input#capture\").val(\"\");\n",
    "      }else if (e.which == 49){\n",
    "        // 1 pressed\n",
    "        set_label(1);  \n",
    "        $(\"input#capture\").val(\"\");\n",
    "      }\n",
    "});\n",
    "\n",
    "load_next_tweet();\n",
    "</script>"
   ]
  },
  {
   "cell_type": "code",
   "execution_count": 6,
   "metadata": {},
   "outputs": [
    {
     "name": "stdout",
     "output_type": "stream",
     "text": [
      "C:\\Users\\pascal\\Data\\twitter\\python_classes.json\n"
     ]
    }
   ],
   "source": [
    "with open(labels_filename, 'w') as outf:\n",
    " json.dump(labels, outf)\n",
    " print(labels_filename)"
   ]
  }
 ],
 "metadata": {
  "kernelspec": {
   "display_name": "Python 3",
   "language": "python",
   "name": "python3"
  },
  "language_info": {
   "codemirror_mode": {
    "name": "ipython",
    "version": 3
   },
   "file_extension": ".py",
   "mimetype": "text/x-python",
   "name": "python",
   "nbconvert_exporter": "python",
   "pygments_lexer": "ipython3",
   "version": "3.11.3"
  },
  "orig_nbformat": 4
 },
 "nbformat": 4,
 "nbformat_minor": 2
}
