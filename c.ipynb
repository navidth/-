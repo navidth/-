{
 "cells": [
  {
   "cell_type": "code",
   "execution_count": 1,
   "metadata": {},
   "outputs": [],
   "source": [
    "import os\n",
    "input_filename = os.path.join(os.path.expanduser(r\"c:\\users\\pascal\"), \"Data\", \"twitter\", \"python_tweets.json\")\n",
    "labels_filename = os.path.join(os.path.expanduser(r\"c:\\users\\pascal\"), \"Data\", \"twitter\", \"python_classes.json\")\n",
    "replicable_dataset = os.path.join(os.path.expanduser(r\"c:\\users\\pascal\"), \"data\",\"twitter\", \"replicable_dataset.json\")"
   ]
  },
  {
   "cell_type": "code",
   "execution_count": 3,
   "metadata": {},
   "outputs": [
    {
     "name": "stdout",
     "output_type": "stream",
     "text": [
      "Loaded 400 tweets\n"
     ]
    }
   ],
   "source": [
    "import json\n",
    "tweets = []\n",
    "with open(input_filename) as inf:\n",
    "    for line in inf:\n",
    "        if len(line.strip()) == 0:\n",
    "            continue\n",
    "        tweets.append(json.loads(line))\n",
    "if os.path.exists(labels_filename):\n",
    "    with open(labels_filename) as inf:\n",
    "        labels = json.load(inf)\n",
    "print(\"Loaded {} tweets\".format(len(tweets)))"
   ]
  },
  {
   "cell_type": "code",
   "execution_count": 4,
   "metadata": {},
   "outputs": [],
   "source": [
    "dataset = [(tweet['id'], label) for label, tweet in zip(labels, tweets)]"
   ]
  },
  {
   "cell_type": "code",
   "execution_count": 5,
   "metadata": {},
   "outputs": [
    {
     "data": {
      "text/plain": [
       "(26, 400, 26)"
      ]
     },
     "execution_count": 5,
     "metadata": {},
     "output_type": "execute_result"
    }
   ],
   "source": [
    "len(dataset), len(tweets), len(labels)"
   ]
  },
  {
   "cell_type": "code",
   "execution_count": 6,
   "metadata": {},
   "outputs": [
    {
     "name": "stdout",
     "output_type": "stream",
     "text": [
      "{'favorited': False, 'coordinates': None, 'lang': 'en', 'user': {'profile_banner_url': 'https://pbs.twimg.com/profile_banners/3054297324/1489142395', 'notifications': False, 'has_extended_profile': False, 'url': 'https://t.co/1BNaivM7WM', 'profile_background_image_url': 'http://abs.twimg.com/images/themes/theme1/bg.png', 'lang': 'en', 'time_zone': None, 'name': 'Crystal Delta', 'screen_name': 'ClearDiff', 'favourites_count': 8742, 'friends_count': 37, 'profile_image_url': 'http://pbs.twimg.com/profile_images/577621909820436480/T_Ov0oGc_normal.png', 'followers_count': 195, 'description': 'Clearly Different', 'statuses_count': 8958, 'contributors_enabled': False, 'profile_image_url_https': 'https://pbs.twimg.com/profile_images/577621909820436480/T_Ov0oGc_normal.png', 'created_at': 'Mon Mar 02 02:37:44 +0000 2015', 'verified': False, 'profile_background_image_url_https': 'https://abs.twimg.com/images/themes/theme1/bg.png', 'utc_offset': None, 'entities': {'description': {'urls': []}, 'url': {'urls': [{'expanded_url': 'http://crystaldelta.com', 'display_url': 'crystaldelta.com', 'url': 'https://t.co/1BNaivM7WM', 'indices': [0, 23]}]}}, 'is_translation_enabled': False, 'profile_link_color': 'FA743E', 'is_translator': False, 'following': False, 'id': 3054297324, 'default_profile_image': False, 'listed_count': 23, 'profile_text_color': '000000', 'id_str': '3054297324', 'translator_type': 'none', 'profile_sidebar_border_color': '000000', 'profile_use_background_image': False, 'default_profile': False, 'protected': False, 'profile_background_tile': False, 'geo_enabled': False, 'profile_sidebar_fill_color': '000000', 'profile_background_color': '000000', 'location': 'Melbourne - Chennai - Worldwide', 'follow_request_sent': False}, 'is_quote_status': False, 'geo': None, 'favorite_count': 0, 'in_reply_to_user_id': None, 'in_reply_to_status_id': None, 'in_reply_to_screen_name': None, 'in_reply_to_status_id_str': None, 'created_at': 'Fri Oct 13 10:46:51 +0000 2017', 'retweet_count': 1, 'entities': {'urls': [{'expanded_url': 'http://ift.tt/2nvDCSA', 'display_url': 'ift.tt/2nvDCSA', 'url': 'https://t.co/MQh3FmwXbu', 'indices': [88, 111]}], 'user_mentions': [{'id_str': '4265079854', 'name': 'MarieGabrielleLaguna', 'id': 4265079854, 'screen_name': 'docprogrammer', 'indices': [3, 17]}], 'symbols': [], 'hashtags': [{'indices': [113, 120], 'text': 'Python'}, {'indices': [121, 127], 'text': 'Redis'}, {'indices': [128, 132], 'text': 'Ngi'}]}, 'contributors': None, 'possibly_sensitive': False, 'in_reply_to_user_id_str': None, 'truncated': False, 'text': 'RT @docprogrammer: Docker Tutorial\\u200a—\\u200aGetting Started with Python, Redis, and Nginx. \\n\\n☞ https://t.co/MQh3FmwXbu\\n\\n#Python #Redis #Ngi… https…', 'id': 918790128952156160, 'id_str': '918790128952156160', 'retweeted': False, 'metadata': {'iso_language_code': 'en', 'result_type': 'recent'}, 'place': None, 'source': '<a href=\"http://twitter.com\" rel=\"nofollow\">Twitter Web Client</a>', 'retweeted_status': {'favorited': False, 'coordinates': None, 'lang': 'en', 'extended_entities': {'media': [{'expanded_url': 'https://twitter.com/python_devv/status/918787722067824640/photo/1', 'url': 'https://t.co/k0D34yqV0A', 'source_user_id_str': '3314148722', 'source_user_id': 3314148722, 'sizes': {'small': {'h': 356, 'resize': 'fit', 'w': 680}, 'thumb': {'h': 150, 'resize': 'crop', 'w': 150}, 'medium': {'h': 536, 'resize': 'fit', 'w': 1024}, 'large': {'h': 536, 'resize': 'fit', 'w': 1024}}, 'id': 918787719563829249, 'media_url': 'http://pbs.twimg.com/media/DMAwkCCX4AEs6Aw.jpg', 'id_str': '918787719563829249', 'source_status_id': 918787722067824640, 'source_status_id_str': '918787722067824640', 'media_url_https': 'https://pbs.twimg.com/media/DMAwkCCX4AEs6Aw.jpg', 'display_url': 'pic.twitter.com/k0D34yqV0A', 'type': 'photo', 'indices': [115, 138]}]}, 'user': {'profile_banner_url': 'https://pbs.twimg.com/profile_banners/4265079854/1447744191', 'notifications': False, 'has_extended_profile': True, 'url': 'https://t.co/ZOLqipqPyT', 'profile_background_image_url': 'http://abs.twimg.com/images/themes/theme1/bg.png', 'lang': 'en', 'time_zone': None, 'name': 'MarieGabrielleLaguna', 'screen_name': 'docprogrammer', 'favourites_count': 33, 'friends_count': 1200, 'profile_image_url': 'http://pbs.twimg.com/profile_images/714308124115673088/Q0Quzk7k_normal.jpg', 'followers_count': 1681, 'description': 'Co-Founder at Eternus Global Outsourcing. SEO strategist, writer, developer. I like Python, I like to design medical apps. https://t.co/VLx7MJlhBA', 'statuses_count': 83955, 'contributors_enabled': False, 'profile_image_url_https': 'https://pbs.twimg.com/profile_images/714308124115673088/Q0Quzk7k_normal.jpg', 'created_at': 'Tue Nov 17 06:56:13 +0000 2015', 'verified': False, 'profile_background_image_url_https': 'https://abs.twimg.com/images/themes/theme1/bg.png', 'utc_offset': None, 'entities': {'description': {'urls': [{'expanded_url': 'https://github.com/DrProgrammerGabs', 'display_url': 'github.com/DrProgrammerGa…', 'url': 'https://t.co/VLx7MJlhBA', 'indices': [123, 146]}]}, 'url': {'urls': [{'expanded_url': 'http://www.eternusglobal.com', 'display_url': 'eternusglobal.com', 'url': 'https://t.co/ZOLqipqPyT', 'indices': [0, 23]}]}}, 'is_translation_enabled': False, 'profile_link_color': '9266CC', 'is_translator': False, 'following': False, 'id': 4265079854, 'default_profile_image': False, 'listed_count': 1851, 'profile_text_color': '000000', 'id_str': '4265079854', 'translator_type': 'none', 'profile_sidebar_border_color': '000000', 'profile_use_background_image': False, 'default_profile': False, 'protected': False, 'profile_background_tile': False, 'geo_enabled': False, 'profile_sidebar_fill_color': '000000', 'profile_background_color': '000000', 'location': 'Republic of the Philippines', 'follow_request_sent': False}, 'is_quote_status': False, 'geo': None, 'favorite_count': 1, 'in_reply_to_user_id': None, 'in_reply_to_status_id': None, 'in_reply_to_screen_name': None, 'in_reply_to_status_id_str': None, 'created_at': 'Fri Oct 13 10:45:29 +0000 2017', 'retweet_count': 1, 'entities': {'media': [{'expanded_url': 'https://twitter.com/python_devv/status/918787722067824640/photo/1', 'url': 'https://t.co/k0D34yqV0A', 'source_user_id_str': '3314148722', 'source_user_id': 3314148722, 'sizes': {'small': {'h': 356, 'resize': 'fit', 'w': 680}, 'thumb': {'h': 150, 'resize': 'crop', 'w': 150}, 'medium': {'h': 536, 'resize': 'fit', 'w': 1024}, 'large': {'h': 536, 'resize': 'fit', 'w': 1024}}, 'id': 918787719563829249, 'media_url': 'http://pbs.twimg.com/media/DMAwkCCX4AEs6Aw.jpg', 'id_str': '918787719563829249', 'source_status_id': 918787722067824640, 'source_status_id_str': '918787722067824640', 'media_url_https': 'https://pbs.twimg.com/media/DMAwkCCX4AEs6Aw.jpg', 'display_url': 'pic.twitter.com/k0D34yqV0A', 'type': 'photo', 'indices': [115, 138]}], 'urls': [{'expanded_url': 'http://ift.tt/2nvDCSA', 'display_url': 'ift.tt/2nvDCSA', 'url': 'https://t.co/MQh3FmwXbu', 'indices': [69, 92]}], 'user_mentions': [], 'symbols': [], 'hashtags': [{'indices': [94, 101], 'text': 'Python'}, {'indices': [102, 108], 'text': 'Redis'}, {'indices': [109, 113], 'text': 'Ngi'}]}, 'contributors': None, 'possibly_sensitive': False, 'in_reply_to_user_id_str': None, 'truncated': False, 'text': 'Docker Tutorial\\u200a—\\u200aGetting Started with Python, Redis, and Nginx. \\n\\n☞ https://t.co/MQh3FmwXbu\\n\\n#Python #Redis #Ngi… https://t.co/k0D34yqV0A', 'id': 918789783379464193, 'id_str': '918789783379464193', 'retweeted': False, 'metadata': {'iso_language_code': 'en', 'result_type': 'recent'}, 'place': None, 'source': '<a href=\"https://ifttt.com\" rel=\"nofollow\">IFTTT</a>'}}\n"
     ]
    }
   ],
   "source": [
    "print(labels)"
   ]
  },
  {
   "cell_type": "code",
   "execution_count": 7,
   "metadata": {},
   "outputs": [],
   "source": [
    "with open(replicable_dataset, 'w') as outf:\n",
    "    json.dump(dataset, outf)"
   ]
  },
  {
   "cell_type": "code",
   "execution_count": 8,
   "metadata": {},
   "outputs": [
    {
     "name": "stdout",
     "output_type": "stream",
     "text": [
      "[[918790128952156160, 'favorited'], [918790062313111552, 'coordinates'], [918790054713192455, 'lang'], [918790045355491328, 'user'], [918790009909628928, 'is_quote_status'], [918790003529981953, 'geo'], [918789986941407232, 'favorite_count'], [918789968281161729, 'in_reply_to_user_id'], [918789963734503430, 'in_reply_to_status_id'], [918789927353114624, 'in_reply_to_screen_name'], [918789888958500864, 'in_reply_to_status_id_str'], [918789850328731648, 'created_at'], [918789848504393728, 'retweet_count'], [918789845111267331, 'entities'], [918789825888583686, 'contributors'], [918789783379464193, 'possibly_sensitive'], [918789759522279424, 'in_reply_to_user_id_str'], [918789751393669120, 'truncated'], [918789748440879104, 'text'], [918789739125268480, 'id'], [918789737590161408, 'id_str'], [918789674122076160, 'retweeted'], [918789654698217472, 'metadata'], [918789654127759360, 'place'], [918789649753169920, 'source'], [918789633613410304, 'retweeted_status']]\n"
     ]
    }
   ],
   "source": [
    "import json\n",
    "\n",
    "# باز کردن فایل JSON\n",
    "with open(replicable_dataset, 'r') as f:\n",
    "    data = json.load(f)\n",
    "\n",
    "# نمایش دادن محتویات دیکشنری\n",
    "print(data)"
   ]
  }
 ],
 "metadata": {
  "kernelspec": {
   "display_name": "Python 3",
   "language": "python",
   "name": "python3"
  },
  "language_info": {
   "codemirror_mode": {
    "name": "ipython",
    "version": 3
   },
   "file_extension": ".py",
   "mimetype": "text/x-python",
   "name": "python",
   "nbconvert_exporter": "python",
   "pygments_lexer": "ipython3",
   "version": "3.11.3"
  },
  "orig_nbformat": 4
 },
 "nbformat": 4,
 "nbformat_minor": 2
}
